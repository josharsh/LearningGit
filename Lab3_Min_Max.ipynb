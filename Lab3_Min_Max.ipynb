{
  "nbformat": 4,
  "nbformat_minor": 0,
  "metadata": {
    "colab": {
      "name": "Lab3_Min_Max.ipynb",
      "provenance": [],
      "collapsed_sections": [],
      "authorship_tag": "ABX9TyMQqa9ScsJPHmmBFYQ/aNYA",
      "include_colab_link": true
    },
    "kernelspec": {
      "name": "python3",
      "display_name": "Python 3"
    }
  },
  "cells": [
    {
      "cell_type": "markdown",
      "metadata": {
        "id": "view-in-github",
        "colab_type": "text"
      },
      "source": [
        "<a href=\"https://colab.research.google.com/github/yogeshpal1999/LearningGit/blob/master/Lab3_Min_Max.ipynb\" target=\"_parent\"><img src=\"https://colab.research.google.com/assets/colab-badge.svg\" alt=\"Open In Colab\"/></a>"
      ]
    },
    {
      "cell_type": "code",
      "metadata": {
        "id": "x-t7v2rFsYwg",
        "colab": {
          "base_uri": "https://localhost:8080/",
          "height": 34
        },
        "outputId": "37163827-2ac8-4dee-b93e-c396e8b13730"
      },
      "source": [
        "\n",
        "MAX, MIN = 1000, -1000 \n",
        "  \n",
        "def minimax(depth, nodeIndex, maximizingPlayer,  \n",
        "            values, alpha, beta):  \n",
        "   \n",
        "  \n",
        "    if depth == 3:  \n",
        "        return values[nodeIndex]  \n",
        "  \n",
        "    if maximizingPlayer:  \n",
        "       \n",
        "        best = MIN \n",
        "   \n",
        "        for i in range(0, 2):  \n",
        "              \n",
        "            val = minimax(depth + 1, nodeIndex * 2 + i,  \n",
        "                          False, values, alpha, beta)  \n",
        "            best = max(best, val)  \n",
        "            alpha = max(alpha, best)  \n",
        "  \n",
        "      \n",
        "            if beta <= alpha:  \n",
        "                break \n",
        "           \n",
        "        return best  \n",
        "       \n",
        "    else: \n",
        "        best = MAX \n",
        "  \n",
        "   \n",
        "        for i in range(0, 2):  \n",
        "           \n",
        "            val = minimax(depth + 1, nodeIndex * 2 + i,  \n",
        "                            True, values, alpha, beta)  \n",
        "            best = min(best, val)  \n",
        "            beta = min(beta, best)  \n",
        "    \n",
        "            if beta <= alpha:  \n",
        "                break \n",
        "           \n",
        "        return best  \n",
        "        \n",
        "if __name__ == \"__main__\":  \n",
        "   \n",
        "    values = [7, 4, 2, 3, 1, 6, 1, 0]   \n",
        "    print(\"The optimal value is :\", minimax(0, 0, True, values, MIN, MAX))  \n",
        "      \n"
      ],
      "execution_count": null,
      "outputs": [
        {
          "output_type": "stream",
          "text": [
            "The optimal value is : 3\n"
          ],
          "name": "stdout"
        }
      ]
    }
  ]
}