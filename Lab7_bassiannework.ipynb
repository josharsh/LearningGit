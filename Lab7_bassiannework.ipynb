{
  "nbformat": 4,
  "nbformat_minor": 0,
  "metadata": {
    "colab": {
      "name": "Lab7_bassiannework.ipynb",
      "provenance": [],
      "authorship_tag": "ABX9TyMsZsLqlvkgc2est9nmNc+a",
      "include_colab_link": true
    },
    "kernelspec": {
      "name": "python3",
      "display_name": "Python 3"
    }
  },
  "cells": [
    {
      "cell_type": "markdown",
      "metadata": {
        "id": "view-in-github",
        "colab_type": "text"
      },
      "source": [
        "<a href=\"https://colab.research.google.com/github/yogeshpal1999/LearningGit/blob/master/Lab7_bassiannework.ipynb\" target=\"_parent\"><img src=\"https://colab.research.google.com/assets/colab-badge.svg\" alt=\"Open In Colab\"/></a>"
      ]
    },
    {
      "cell_type": "code",
      "metadata": {
        "colab": {
          "base_uri": "https://localhost:8080/"
        },
        "id": "0oP7aOmj2KFs",
        "outputId": "5aaec839-7548-49d1-ca99-416122c05910"
      },
      "source": [
        "pip install pomegranate"
      ],
      "execution_count": 1,
      "outputs": [
        {
          "output_type": "stream",
          "text": [
            "Collecting pomegranate\n",
            "\u001b[?25l  Downloading https://files.pythonhosted.org/packages/67/a1/17396f2bf7e00054ed00fa0667c2a28b3d71a97d4569bacc959abb458212/pomegranate-0.13.5.tar.gz (4.5MB)\n",
            "\u001b[K     |████████████████████████████████| 4.5MB 13.1MB/s \n",
            "\u001b[?25hRequirement already satisfied: numpy>=1.8.0 in /usr/local/lib/python3.6/dist-packages (from pomegranate) (1.18.5)\n",
            "Requirement already satisfied: joblib>=0.9.0b4 in /usr/local/lib/python3.6/dist-packages (from pomegranate) (0.17.0)\n",
            "Requirement already satisfied: networkx>=2.0 in /usr/local/lib/python3.6/dist-packages (from pomegranate) (2.5)\n",
            "Requirement already satisfied: scipy>=0.17.0 in /usr/local/lib/python3.6/dist-packages (from pomegranate) (1.4.1)\n",
            "Requirement already satisfied: pyyaml in /usr/local/lib/python3.6/dist-packages (from pomegranate) (3.13)\n",
            "Requirement already satisfied: decorator>=4.3.0 in /usr/local/lib/python3.6/dist-packages (from networkx>=2.0->pomegranate) (4.4.2)\n",
            "Building wheels for collected packages: pomegranate\n",
            "  Building wheel for pomegranate (setup.py) ... \u001b[?25l\u001b[?25hdone\n",
            "  Created wheel for pomegranate: filename=pomegranate-0.13.5-cp36-cp36m-linux_x86_64.whl size=15238463 sha256=1cfd57eccffae188324e908d54d096793e458a6fa27e472423abc858deab9ea0\n",
            "  Stored in directory: /root/.cache/pip/wheels/99/d9/0a/0758302ccad41a61aa08ae4985b84d4cab5086e99c92a68560\n",
            "Successfully built pomegranate\n",
            "Installing collected packages: pomegranate\n",
            "Successfully installed pomegranate-0.13.5\n"
          ],
          "name": "stdout"
        }
      ]
    },
    {
      "cell_type": "code",
      "metadata": {
        "id": "cmn1OaN73Mnn"
      },
      "source": [
        "#Import required packages\n",
        "import math\n",
        "from pomegranate import *\n",
        " \n",
        "# Initially the door selected by the guest is completely random\n",
        "guest =DiscreteDistribution( { 'A': 1./3, 'B': 1./3, 'C': 1./3 } )\n",
        " \n",
        "# The door containing the prize is also a random process\n",
        "prize =DiscreteDistribution( { 'A': 1./3, 'B': 1./3, 'C': 1./3 } )\n",
        " \n",
        "# The door Monty picks, depends on the choice of the guest and the prize door\n",
        "monty =ConditionalProbabilityTable(\n",
        "[[ 'A', 'A', 'A', 0.0 ],\n",
        "[ 'A', 'A', 'B', 0.5 ],\n",
        "[ 'A', 'A', 'C', 0.5 ],\n",
        "[ 'A', 'B', 'A', 0.0 ],\n",
        "[ 'A', 'B', 'B', 0.0 ],\n",
        "[ 'A', 'B', 'C', 1.0 ],\n",
        "[ 'A', 'C', 'A', 0.0 ],\n",
        "[ 'A', 'C', 'B', 1.0 ],\n",
        "[ 'A', 'C', 'C', 0.0 ],\n",
        "[ 'B', 'A', 'A', 0.0 ],\n",
        "[ 'B', 'A', 'B', 0.0 ],\n",
        "[ 'B', 'A', 'C', 1.0 ],\n",
        "[ 'B', 'B', 'A', 0.5 ],\n",
        "[ 'B', 'B', 'B', 0.0 ],\n",
        "[ 'B', 'B', 'C', 0.5 ],\n",
        "[ 'B', 'C', 'A', 1.0 ],\n",
        "[ 'B', 'C', 'B', 0.0 ],\n",
        "[ 'B', 'C', 'C', 0.0 ],\n",
        "[ 'C', 'A', 'A', 0.0 ],\n",
        "[ 'C', 'A', 'B', 1.0 ],\n",
        "[ 'C', 'A', 'C', 0.0 ],\n",
        "[ 'C', 'B', 'A', 1.0 ],\n",
        "[ 'C', 'B', 'B', 0.0 ],\n",
        "[ 'C', 'B', 'C', 0.0 ],\n",
        "[ 'C', 'C', 'A', 0.5 ],\n",
        "[ 'C', 'C', 'B', 0.5 ],\n",
        "[ 'C', 'C', 'C', 0.0 ]], [guest, prize] )\n",
        " \n",
        "d1 = State( guest, name=\"guest\" )\n",
        "d2 = State( prize, name=\"prize\" )\n",
        "d3 = State( monty, name=\"monty\" )\n",
        " \n",
        "#Building the Bayesian Network\n",
        "network = BayesianNetwork( \"Solving the Monty Hall Problem With Bayesian Networks\" )\n",
        "network.add_states(d1, d2, d3)\n",
        "network.add_edge(d1, d3)\n",
        "network.add_edge(d2, d3)\n",
        "network.bake()"
      ],
      "execution_count": 2,
      "outputs": []
    },
    {
      "cell_type": "code",
      "metadata": {
        "colab": {
          "base_uri": "https://localhost:8080/"
        },
        "id": "G_mp-LTe3O69",
        "outputId": "a513c335-9f43-4ce1-b168-975ebaa3b3f1"
      },
      "source": [
        "beliefs = network.predict_proba({ 'guest' : 'A' })\n",
        "beliefs = map(str, beliefs)\n",
        "print(\"n\".join( \"{}t{}\".format( state.name, belief ) for state, belief in zip( network.states, beliefs ) ))\n",
        " \n",
        "guest :'A'\n",
        "prize: {\n",
        "\"class\" :\"Distribution\",\n",
        "\"dtype\" :\"str\",\n",
        "\"name\" :\"DiscreteDistribution\",\n",
        "\"parameters\" :[\n",
        "{\n",
        "\"A\" :0.3333333333333333,\n",
        "\"B\" :0.3333333333333333,\n",
        "\"C\" :0.3333333333333333\n",
        "}\n",
        "],\n",
        "}\n",
        " \n",
        "monty: {\n",
        "\"class\" :\"Distribution\",\n",
        "\"dtype\" :\"str\",\n",
        "\"name\" :\"DiscreteDistribution\",\n",
        "\"parameters\" :[\n",
        "{\n",
        "\"C\" :0.49999999999999983,\n",
        "\"A\" :0.0,\n",
        "\"B\" :0.49999999999999983\n",
        "}\n",
        "],\n",
        "}"
      ],
      "execution_count": 3,
      "outputs": [
        {
          "output_type": "stream",
          "text": [
            "guesttAnprizet{\n",
            "    \"class\" : \"Distribution\",\n",
            "    \"dtype\" : \"str\",\n",
            "    \"name\" : \"DiscreteDistribution\",\n",
            "    \"parameters\" : [\n",
            "        {\n",
            "            \"A\" : 0.3333333333333333,\n",
            "            \"B\" : 0.3333333333333333,\n",
            "            \"C\" : 0.3333333333333333\n",
            "        }\n",
            "    ],\n",
            "    \"frozen\" : false\n",
            "}nmontyt{\n",
            "    \"class\" : \"Distribution\",\n",
            "    \"dtype\" : \"str\",\n",
            "    \"name\" : \"DiscreteDistribution\",\n",
            "    \"parameters\" : [\n",
            "        {\n",
            "            \"A\" : 0.0,\n",
            "            \"C\" : 0.49999999999999983,\n",
            "            \"B\" : 0.49999999999999983\n",
            "        }\n",
            "    ],\n",
            "    \"frozen\" : false\n",
            "}\n"
          ],
          "name": "stdout"
        }
      ]
    }
  ]
}