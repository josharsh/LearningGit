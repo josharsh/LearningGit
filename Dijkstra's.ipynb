{
  "nbformat": 4,
  "nbformat_minor": 0,
  "metadata": {
    "colab": {
      "name": "Dijkstra's.ipynb",
      "provenance": [],
      "collapsed_sections": [],
      "authorship_tag": "ABX9TyO+BKfWeDefYHJBxR6szryR",
      "include_colab_link": true
    },
    "kernelspec": {
      "name": "python3",
      "display_name": "Python 3"
    }
  },
  "cells": [
    {
      "cell_type": "markdown",
      "metadata": {
        "id": "view-in-github",
        "colab_type": "text"
      },
      "source": [
        "<a href=\"https://colab.research.google.com/github/yogeshpal1999/LearningGit/blob/master/Dijkstra's.ipynb\" target=\"_parent\"><img src=\"https://colab.research.google.com/assets/colab-badge.svg\" alt=\"Open In Colab\"/></a>"
      ]
    },
    {
      "cell_type": "code",
      "metadata": {
        "id": "Cet_8L2A5nPk",
        "outputId": "193bf876-94b6-477e-9a08-8abc26437e8c",
        "colab": {
          "base_uri": "https://localhost:8080/"
        }
      },
      "source": [
        "import sys \n",
        "   \n",
        "class Graph(): \n",
        "   \n",
        "    def __init__(self, vertices): \n",
        "        self.V = vertices \n",
        "        self.graph = [[0 for column in range(vertices)]  \n",
        "                    for row in range(vertices)] \n",
        "   \n",
        "    def printSolution(self, dist): \n",
        "        print (\"Vertex tDistance from Source\") \n",
        "        for node in range(self.V): \n",
        "            print (node, \"t\", dist[node]) \n",
        "   \n",
        "    # A utility function to find the vertex with  \n",
        "    # minimum distance value, from the set of vertices  \n",
        "    # not yet included in shortest path tree \n",
        "    def minDistance(self, dist, sptSet): \n",
        "   \n",
        "        # Initilaize minimum distance for next node \n",
        "        min = sys.maxsize \n",
        "   \n",
        "        # Search not nearest vertex not in the  \n",
        "        # shortest path tree \n",
        "        for v in range(self.V): \n",
        "            if dist[v] < min and sptSet[v] == False: \n",
        "                min = dist[v] \n",
        "                min_index = v \n",
        "   \n",
        "        return min_index \n",
        "   \n",
        "    # Funtion that implements Dijkstra's single source  \n",
        "    # shortest path algorithm for a graph represented  \n",
        "    # using adjacency matrix representation \n",
        "    def dijkstra(self, src): \n",
        "   \n",
        "        dist = [sys.maxsize] * self.V \n",
        "        dist[src] = 0\n",
        "        sptSet = [False] * self.V \n",
        "   \n",
        "        for cout in range(self.V): \n",
        "   \n",
        "            # Pick the minimum distance vertex from  \n",
        "            # the set of vertices not yet processed.  \n",
        "            # u is always equal to src in first iteration \n",
        "            u = self.minDistance(dist, sptSet) \n",
        "   \n",
        "            # Put the minimum distance vertex in the  \n",
        "            # shotest path tree \n",
        "            sptSet[u] = True\n",
        "   \n",
        "            # Update dist value of the adjacent vertices  \n",
        "            # of the picked vertex only if the current  \n",
        "            # distance is greater than new distance and \n",
        "            # the vertex in not in the shotest path tree \n",
        "            for v in range(self.V): \n",
        "                if self.graph[u][v] > 0 and sptSet[v] == False and dist[v] > dist[u] + self.graph[u][v]: \n",
        "                    dist[v] = dist[u] + self.graph[u][v] \n",
        "   \n",
        "        self.printSolution(dist) \n",
        "   \n",
        "# Driver program \n",
        "g = Graph(9) \n",
        "g.graph = [[0, 4, 0, 0, 0, 0, 0, 8, 0], \n",
        "        [4, 0, 8, 0, 0, 0, 0, 11, 0], \n",
        "        [0, 8, 0, 7, 0, 4, 0, 0, 2], \n",
        "        [0, 0, 7, 0, 9, 14, 0, 0, 0], \n",
        "        [0, 0, 0, 9, 0, 10, 0, 0, 0], \n",
        "        [0, 0, 4, 14, 10, 0, 2, 0, 0], \n",
        "        [0, 0, 0, 0, 0, 2, 0, 1, 6], \n",
        "        [8, 11, 0, 0, 0, 0, 1, 0, 7], \n",
        "        [0, 0, 2, 0, 0, 0, 6, 7, 0] \n",
        "        ]; \n",
        "   \n",
        "g.dijkstra(0);\n"
      ],
      "execution_count": 2,
      "outputs": [
        {
          "output_type": "stream",
          "text": [
            "Vertex tDistance from Source\n",
            "0 t 0\n",
            "1 t 4\n",
            "2 t 12\n",
            "3 t 19\n",
            "4 t 21\n",
            "5 t 11\n",
            "6 t 9\n",
            "7 t 8\n",
            "8 t 14\n"
          ],
          "name": "stdout"
        }
      ]
    }
  ]
}